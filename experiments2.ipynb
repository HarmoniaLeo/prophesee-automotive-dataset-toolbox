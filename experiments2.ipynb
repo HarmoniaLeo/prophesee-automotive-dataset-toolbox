{
 "cells": [
  {
   "cell_type": "code",
   "execution_count": 103,
   "metadata": {},
   "outputs": [],
   "source": [
    "import pandas as pd\n",
    "import numpy as np\n",
    "\n",
    "def load_csv(route):\n",
    "    data = pd.read_csv(route)\n",
    "    data = data[data.columns[1:]]\n",
    "    data[\"Time stamp\"] = data[\"Time stamp\"].astype(int)\n",
    "    data = data.set_index(data[\"File name\"] + data[\"Time stamp\"].astype(str))\n",
    "    return data"
   ]
  },
  {
   "cell_type": "code",
   "execution_count": 104,
   "metadata": {},
   "outputs": [],
   "source": [
    "import seaborn as sns\n",
    "import matplotlib.pyplot as plt\n",
    "sns.set_style(\"darkgrid\")"
   ]
  },
  {
   "cell_type": "code",
   "execution_count": 105,
   "metadata": {},
   "outputs": [],
   "source": [
    "den_train = load_csv(\"/Users/harmonialeo/Downloads/gen4_train_density2.csv\")\n",
    "den_val = load_csv(\"/Users/harmonialeo/Downloads/gen4_val_density2.csv\")\n",
    "den_test = load_csv(\"/Users/harmonialeo/Downloads/gen4_test_density2.csv\")"
   ]
  },
  {
   "cell_type": "code",
   "execution_count": 106,
   "metadata": {},
   "outputs": [],
   "source": [
    "den_all = den_train.append(den_val).append(den_test)"
   ]
  },
  {
   "cell_type": "code",
   "execution_count": 107,
   "metadata": {},
   "outputs": [
    {
     "data": {
      "text/plain": [
       "<AxesSubplot:xlabel='Density diff', ylabel='Density'>"
      ]
     },
     "execution_count": 107,
     "metadata": {},
     "output_type": "execute_result"
    },
    {
     "data": {
      "image/png": "[encoded data removed]",
      "text/plain": [
       "<Figure size 432x288 with 1 Axes>"
      ]
     },
     "metadata": {},
     "output_type": "display_data"
    }
   ],
   "source": [
    "den_all[\"Density diff\"] = den_all[\"Density positive\"] - den_all[\"Density negative\"]\n",
    "sns.kdeplot(den_all[\"Density diff\"])"
   ]
  },
  {
   "cell_type": "code",
   "execution_count": 108,
   "metadata": {},
   "outputs": [],
   "source": [
    "den_all[\"type\"] = np.where(\n",
    "    ((den_all[\"Density positive\"] - den_all[\"Density negative\"]) > (den_all[\"Density positive\"] - den_all[\"Density negative\"]).quantile(0.995))|\n",
    "    ((den_all[\"Density positive\"] - den_all[\"Density negative\"]) < (den_all[\"Density positive\"] - den_all[\"Density negative\"]).quantile(0.005)),6, 0)"
   ]
  },
  {
   "cell_type": "code",
   "execution_count": 109,
   "metadata": {},
   "outputs": [],
   "source": [
    "den_ineff = den_all[[\"Density ineffective\"]][(den_all[\"type\"]==0)&(den_all[\"Density ineffective\"]>0)]\n",
    "den_eff = den_all[[\"Density effective\"]][(den_all[\"type\"]==0)&(den_all[\"Density effective\"]>0)]"
   ]
  },
  {
   "cell_type": "code",
   "execution_count": 110,
   "metadata": {},
   "outputs": [
    {
     "name": "stderr",
     "output_type": "stream",
     "text": [
      "No handles with labels found to put in legend.\n"
     ]
    },
    {
     "data": {
      "text/plain": [
       "<matplotlib.legend.Legend at 0x7facdc50e160>"
      ]
     },
     "execution_count": 110,
     "metadata": {},
     "output_type": "execute_result"
    },
    {
     "data": {
      "image/png": "[encoded data removed]",
      "text/plain": [
       "<Figure size 432x288 with 1 Axes>"
      ]
     },
     "metadata": {},
     "output_type": "display_data"
    }
   ],
   "source": [
    "sns.histplot(den_ineff)\n",
    "plt.legend()"
   ]
  },
  {
   "cell_type": "code",
   "execution_count": 111,
   "metadata": {},
   "outputs": [
    {
     "name": "stderr",
     "output_type": "stream",
     "text": [
      "No handles with labels found to put in legend.\n"
     ]
    },
    {
     "data": {
      "text/plain": [
       "<matplotlib.legend.Legend at 0x7facd1c27820>"
      ]
     },
     "execution_count": 111,
     "metadata": {},
     "output_type": "execute_result"
    },
    {
     "data": {
      "image/png": "[encoded data removed]",
      "text/plain": [
       "<Figure size 432x288 with 1 Axes>"
      ]
     },
     "metadata": {},
     "output_type": "display_data"
    }
   ],
   "source": [
    "sns.histplot(den_eff)\n",
    "plt.legend()"
   ]
  },
  {
   "cell_type": "code",
   "execution_count": 112,
   "metadata": {},
   "outputs": [],
   "source": [
    "alpha = 0\n",
    "beta = 0\n",
    "#sigma = 0.75"
   ]
  },
  {
   "cell_type": "code",
   "execution_count": 113,
   "metadata": {},
   "outputs": [
    {
     "data": {
      "text/plain": [
       "{\n",
       "    \"class\" : \"GeneralMixtureModel\",\n",
       "    \"distributions\" : [\n",
       "        {\n",
       "            \"class\" : \"Distribution\",\n",
       "            \"name\" : \"IndependentComponentsDistribution\",\n",
       "            \"parameters\" : [\n",
       "                [\n",
       "                    {\n",
       "                        \"class\" : \"Distribution\",\n",
       "                        \"name\" : \"GammaDistribution\",\n",
       "                        \"parameters\" : [\n",
       "                            1.8705030978060613,\n",
       "                            23.486341574169387\n",
       "                        ],\n",
       "                        \"frozen\" : false\n",
       "                    }\n",
       "                ],\n",
       "                [\n",
       "                    1.0\n",
       "                ]\n",
       "            ],\n",
       "            \"frozen\" : false\n",
       "        },\n",
       "        {\n",
       "            \"class\" : \"Distribution\",\n",
       "            \"name\" : \"IndependentComponentsDistribution\",\n",
       "            \"parameters\" : [\n",
       "                [\n",
       "                    {\n",
       "                        \"class\" : \"Distribution\",\n",
       "                        \"name\" : \"GammaDistribution\",\n",
       "                        \"parameters\" : [\n",
       "                            0.8968581283631346,\n",
       "                            576.1340621891708\n",
       "                        ],\n",
       "                        \"frozen\" : false\n",
       "                    }\n",
       "                ],\n",
       "                [\n",
       "                    1.0\n",
       "                ]\n",
       "            ],\n",
       "            \"frozen\" : false\n",
       "        }\n",
       "    ],\n",
       "    \"weights\" : [\n",
       "        0.748484901818171,\n",
       "        0.25151509818182893\n",
       "    ]\n",
       "}"
      ]
     },
     "execution_count": 113,
     "metadata": {},
     "output_type": "execute_result"
    }
   ],
   "source": [
    "from pomegranate import *\n",
    "\n",
    "np.random.seed(0)\n",
    "model = GeneralMixtureModel.from_samples([GammaDistribution], 2, den_ineff)\n",
    "model"
   ]
  },
  {
   "cell_type": "code",
   "execution_count": 114,
   "metadata": {},
   "outputs": [
    {
     "name": "stderr",
     "output_type": "stream",
     "text": [
      "/Users/harmonialeo/opt/anaconda3/lib/python3.8/site-packages/seaborn/_decorators.py:36: FutureWarning: Pass the following variables as keyword args: x, y. From version 0.12, the only valid positional argument will be `data`, and passing other arguments without an explicit keyword will result in an error or misinterpretation.\n",
      "  warnings.warn(\n",
      "/Users/harmonialeo/opt/anaconda3/lib/python3.8/site-packages/seaborn/_decorators.py:36: FutureWarning: Pass the following variables as keyword args: x, y. From version 0.12, the only valid positional argument will be `data`, and passing other arguments without an explicit keyword will result in an error or misinterpretation.\n",
      "  warnings.warn(\n",
      "/Users/harmonialeo/opt/anaconda3/lib/python3.8/site-packages/seaborn/_decorators.py:36: FutureWarning: Pass the following variables as keyword args: x, y. From version 0.12, the only valid positional argument will be `data`, and passing other arguments without an explicit keyword will result in an error or misinterpretation.\n",
      "  warnings.warn(\n"
     ]
    },
    {
     "data": {
      "image/png": "[encoded data removed]",
      "text/plain": [
       "<Figure size 432x288 with 1 Axes>"
      ]
     },
     "metadata": {},
     "output_type": "display_data"
    }
   ],
   "source": [
    "plt.hist(den_ineff, bins=50, density=True, stacked=True)\n",
    "x = np.arange(0,1.0,0.001)\n",
    "sns.lineplot(x, model.distributions[1].probability(x[:,None]), label=\"Distribution alpha\")\n",
    "sns.lineplot(x, model.distributions[0].probability(x[:,None]), label=\"Distribution beta\")\n",
    "sns.lineplot(x, model.probability(x[:,None]), label=\"Mixture\")\n",
    "# sns.lineplot(den_eff, model3.distributions[0].probability(den_eff), label=\"Distribution 1\")\n",
    "# sns.lineplot(den_eff, model3.distributions[1].probability(den_eff), label=\"Distribution 2\")\n",
    "# sns.lineplot(den_eff, model3.probability(den_eff), label=\"Mixture\")\n",
    "plt.legend()\n",
    "plt.ylim((0,30))\n",
    "plt.xlim((0,0.5))\n",
    "plt.show()"
   ]
  },
  {
   "cell_type": "code",
   "execution_count": 115,
   "metadata": {},
   "outputs": [
    {
     "data": {
      "text/plain": [
       "{\n",
       "    \"class\" : \"GeneralMixtureModel\",\n",
       "    \"distributions\" : [\n",
       "        {\n",
       "            \"class\" : \"Distribution\",\n",
       "            \"name\" : \"IndependentComponentsDistribution\",\n",
       "            \"parameters\" : [\n",
       "                [\n",
       "                    {\n",
       "                        \"class\" : \"Distribution\",\n",
       "                        \"name\" : \"GammaDistribution\",\n",
       "                        \"parameters\" : [\n",
       "                            3.41874552181307,\n",
       "                            23.25579478398224\n",
       "                        ],\n",
       "                        \"frozen\" : false\n",
       "                    }\n",
       "                ],\n",
       "                [\n",
       "                    1.0\n",
       "                ]\n",
       "            ],\n",
       "            \"frozen\" : false\n",
       "        },\n",
       "        {\n",
       "            \"class\" : \"Distribution\",\n",
       "            \"name\" : \"IndependentComponentsDistribution\",\n",
       "            \"parameters\" : [\n",
       "                [\n",
       "                    {\n",
       "                        \"class\" : \"Distribution\",\n",
       "                        \"name\" : \"GammaDistribution\",\n",
       "                        \"parameters\" : [\n",
       "                            0.6216113094532659,\n",
       "                            15.540508988977248\n",
       "                        ],\n",
       "                        \"frozen\" : false\n",
       "                    }\n",
       "                ],\n",
       "                [\n",
       "                    1.0\n",
       "                ]\n",
       "            ],\n",
       "            \"frozen\" : false\n",
       "        }\n",
       "    ],\n",
       "    \"weights\" : [\n",
       "        0.6022348753564236,\n",
       "        0.3977651246435765\n",
       "    ]\n",
       "}"
      ]
     },
     "execution_count": 115,
     "metadata": {},
     "output_type": "execute_result"
    }
   ],
   "source": [
    "model2 = GeneralMixtureModel.from_samples([GammaDistribution], 2, den_eff)\n",
    "model2"
   ]
  },
  {
   "cell_type": "code",
   "execution_count": 116,
   "metadata": {},
   "outputs": [
    {
     "name": "stderr",
     "output_type": "stream",
     "text": [
      "/Users/harmonialeo/opt/anaconda3/lib/python3.8/site-packages/seaborn/_decorators.py:36: FutureWarning: Pass the following variables as keyword args: x, y. From version 0.12, the only valid positional argument will be `data`, and passing other arguments without an explicit keyword will result in an error or misinterpretation.\n",
      "  warnings.warn(\n",
      "/Users/harmonialeo/opt/anaconda3/lib/python3.8/site-packages/seaborn/_decorators.py:36: FutureWarning: Pass the following variables as keyword args: x, y. From version 0.12, the only valid positional argument will be `data`, and passing other arguments without an explicit keyword will result in an error or misinterpretation.\n",
      "  warnings.warn(\n",
      "/Users/harmonialeo/opt/anaconda3/lib/python3.8/site-packages/seaborn/_decorators.py:36: FutureWarning: Pass the following variables as keyword args: x, y. From version 0.12, the only valid positional argument will be `data`, and passing other arguments without an explicit keyword will result in an error or misinterpretation.\n",
      "  warnings.warn(\n"
     ]
    },
    {
     "data": {
      "image/png": "[encoded data removed]",
      "text/plain": [
       "<Figure size 432x288 with 1 Axes>"
      ]
     },
     "metadata": {},
     "output_type": "display_data"
    }
   ],
   "source": [
    "plt.hist(den_eff, bins=50, density=True, stacked=True)\n",
    "x = np.arange(0,1.0,0.001)\n",
    "sns.lineplot(x, model2.distributions[1].probability(x[:,None]), label=\"Distribution alpha\")\n",
    "sns.lineplot(x, model2.distributions[0].probability(x[:,None]), label=\"Distribution beta\")\n",
    "sns.lineplot(x, model2.probability(x[:,None]), label=\"Mixture\")\n",
    "# sns.lineplot(den_eff, model3.distributions[0].probability(den_eff), label=\"Distribution 1\")\n",
    "# sns.lineplot(den_eff, model3.distributions[1].probability(den_eff), label=\"Distribution 2\")\n",
    "# sns.lineplot(den_eff, model3.probability(den_eff), label=\"Mixture\")\n",
    "plt.legend()\n",
    "plt.ylim((0,30))\n",
    "plt.xlim((0,0.5))\n",
    "plt.show()"
   ]
  },
  {
   "cell_type": "code",
   "execution_count": 117,
   "metadata": {},
   "outputs": [
    {
     "name": "stdout",
     "output_type": "stream",
     "text": [
      "0.0063566551543772\n",
      "0.0509471148252487\n"
     ]
    }
   ],
   "source": [
    "labels1 = (model.predict_proba(den_all[[\"Density ineffective\"]]).argmax(axis=1))\n",
    "print(den_all[(labels1==1)][\"Density ineffective\"].max())\n",
    "labels2 = (model2.predict_proba(den_all[[\"Density effective min\"]]).argmax(axis=1))\n",
    "labels3 = (model2.predict_proba(den_all[[\"Density effective max\"]]).argmax(axis=1))\n",
    "labels0 = (model2.predict_proba(den_all[[\"Density effective\"]]).argmax(axis=1))\n",
    "print(den_all[(labels0==1)][\"Density effective\"].max())"
   ]
  },
  {
   "cell_type": "code",
   "execution_count": 118,
   "metadata": {},
   "outputs": [],
   "source": [
    "den_all[\"type\"] = np.where((labels1==1)&(labels2==0)&(den_all[\"type\"]==0), 1, den_all[\"type\"])\n",
    "den_all[\"type\"] = np.where((labels1==0)&(labels2==0)&(den_all[\"type\"]==0), 2, den_all[\"type\"])\n",
    "den_all[\"type\"] = np.where((labels1==1)&(labels2==1)&(labels3==0)&(den_all[\"type\"]==0), 3, den_all[\"type\"])\n",
    "den_all[\"type\"] = np.where((labels1==1)&(labels2==1)&(labels3==1)&(den_all[\"type\"]==0), 4, den_all[\"type\"])\n",
    "den_all[\"type\"] = np.where((labels1==0)&(labels2==1)&(den_all[\"type\"]==0), 5, den_all[\"type\"])"
   ]
  },
  {
   "cell_type": "code",
   "execution_count": 119,
   "metadata": {},
   "outputs": [],
   "source": [
    "den_all[\"type\"] = np.where(den_all[\"type\"]==1, \"sub-scene 1\", den_all[\"type\"])\n",
    "den_all[\"type\"] = np.where(den_all[\"type\"]==\"2\", \"sub-scene 2\", den_all[\"type\"])\n",
    "den_all[\"type\"] = np.where(den_all[\"type\"]==\"3\", \"sub-scene 3\", den_all[\"type\"])\n",
    "den_all[\"type\"] = np.where(den_all[\"type\"]==\"4\", \"sub-scene 4\", den_all[\"type\"])\n",
    "den_all[\"type\"] = np.where(den_all[\"type\"]==\"5\", \"sub-scene 5\", den_all[\"type\"])\n",
    "den_all[\"type\"] = np.where(den_all[\"type\"]==\"6\", \"sub-scene 6\", den_all[\"type\"])\n",
    "color = {\"sub-scene 1\":\"orange\",\"sub-scene 2\":\"red\",\"sub-scene 3\":\"c\",\"sub-scene 4\":'#1f77b4',\"sub-scene 5\":\"m\",\"sub-scene 6\":\"purple\",\"sub-scene 7\":\"black\"}"
   ]
  },
  {
   "cell_type": "code",
   "execution_count": 120,
   "metadata": {},
   "outputs": [
    {
     "data": {
      "text/plain": [
       "([<matplotlib.patches.Wedge at 0x7face73c5f40>,\n",
       "  <matplotlib.patches.Wedge at 0x7faccb329760>,\n",
       "  <matplotlib.patches.Wedge at 0x7faccb3297f0>,\n",
       "  <matplotlib.patches.Wedge at 0x7facca263a00>,\n",
       "  <matplotlib.patches.Wedge at 0x7faccb2110a0>,\n",
       "  <matplotlib.patches.Wedge at 0x7faccb211bb0>],\n",
       " [Text(0.12922576243603337, 1.0923830382804496, 'sub-scene 5'),\n",
       "  Text(-0.8902712664110373, -0.6460782245230744, 'sub-scene 2'),\n",
       "  Text(-0.053128425617746784, -1.0987162374295647, 'sub-scene 6'),\n",
       "  Text(0.5816050910221354, -0.9336677771547724, 'sub-scene 3'),\n",
       "  Text(1.0722735949678381, -0.24541666107815227, 'sub-scene 4'),\n",
       "  Text(1.0999854157828237, -0.005664368021985721, 'sub-scene 1')])"
      ]
     },
     "execution_count": 120,
     "metadata": {},
     "output_type": "execute_result"
    },
    {
     "data": {
      "image/png": "[encoded data removed]",
      "text/plain": [
       "<Figure size 432x288 with 1 Axes>"
      ]
     },
     "metadata": {},
     "output_type": "display_data"
    }
   ],
   "source": [
    "typs = den_all[\"type\"].unique()\n",
    "plt.pie([(den_all[\"type\"]==typ).sum() for typ in typs],labels=typs,colors=[color[typ] for typ in typs],shadow=True)"
   ]
  }
 ],
 "metadata": {
  "interpreter": {
   "hash": "34e3d493db18dfecee561d26c028e75a8172bde10b9fb1f75764229aafdf7eef"
  },
  "kernelspec": {
   "display_name": "Python 3.8.3 ('base')",
   "language": "python",
   "name": "python3"
  },
  "language_info": {
   "codemirror_mode": {
    "name": "ipython",
    "version": 3
   },
   "file_extension": ".py",
   "mimetype": "text/x-python",
   "name": "python",
   "nbconvert_exporter": "python",
   "pygments_lexer": "ipython3",
   "version": "3.8.3"
  },
  "orig_nbformat": 4
 },
 "nbformat": 4,
 "nbformat_minor": 2
}

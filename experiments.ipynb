{
 "cells": [
  {
   "cell_type": "code",
   "execution_count": 82,
   "metadata": {},
   "outputs": [
    {
     "data": {
      "text/html": [
       "<div>\n",
       "<style scoped>\n",
       "    .dataframe tbody tr th:only-of-type {\n",
       "        vertical-align: middle;\n",
       "    }\n",
       "\n",
       "    .dataframe tbody tr th {\n",
       "        vertical-align: top;\n",
       "    }\n",
       "\n",
       "    .dataframe thead th {\n",
       "        text-align: right;\n",
       "    }\n",
       "</style>\n",
       "<table border=\"1\" class=\"dataframe\">\n",
       "  <thead>\n",
       "    <tr style=\"text-align: right;\">\n",
       "      <th></th>\n",
       "      <th>Unnamed: 0</th>\n",
       "      <th>Exp name</th>\n",
       "      <th>File name</th>\n",
       "      <th>Time stamp</th>\n",
       "      <th>Map</th>\n",
       "      <th>Map medium</th>\n",
       "      <th>Map large</th>\n",
       "      <th>Density</th>\n",
       "      <th>Density effective</th>\n",
       "      <th>Density occurance</th>\n",
       "    </tr>\n",
       "  </thead>\n",
       "  <tbody>\n",
       "    <tr>\n",
       "      <th>0</th>\n",
       "      <td>0</td>\n",
       "      <td>no5-change</td>\n",
       "      <td>17-10-06_13-18-33_244500000_304500000</td>\n",
       "      <td>749999.0</td>\n",
       "      <td>0.933663</td>\n",
       "      <td>1.000000</td>\n",
       "      <td>0.9</td>\n",
       "      <td>0.262354</td>\n",
       "      <td>0.585325</td>\n",
       "      <td>0.592072</td>\n",
       "    </tr>\n",
       "    <tr>\n",
       "      <th>1</th>\n",
       "      <td>1</td>\n",
       "      <td>no5-change</td>\n",
       "      <td>17-10-06_13-18-33_244500000_304500000</td>\n",
       "      <td>1749999.0</td>\n",
       "      <td>0.822772</td>\n",
       "      <td>0.833663</td>\n",
       "      <td>-1.0</td>\n",
       "      <td>0.169897</td>\n",
       "      <td>0.426888</td>\n",
       "      <td>0.457396</td>\n",
       "    </tr>\n",
       "    <tr>\n",
       "      <th>2</th>\n",
       "      <td>2</td>\n",
       "      <td>no5-change</td>\n",
       "      <td>17-10-06_13-18-33_244500000_304500000</td>\n",
       "      <td>2749999.0</td>\n",
       "      <td>0.800000</td>\n",
       "      <td>-1.000000</td>\n",
       "      <td>-1.0</td>\n",
       "      <td>0.168579</td>\n",
       "      <td>0.445312</td>\n",
       "      <td>0.555884</td>\n",
       "    </tr>\n",
       "    <tr>\n",
       "      <th>3</th>\n",
       "      <td>3</td>\n",
       "      <td>no5-change</td>\n",
       "      <td>17-10-06_13-18-33_244500000_304500000</td>\n",
       "      <td>3749999.0</td>\n",
       "      <td>0.000000</td>\n",
       "      <td>-1.000000</td>\n",
       "      <td>-1.0</td>\n",
       "      <td>0.146753</td>\n",
       "      <td>0.434625</td>\n",
       "      <td>-1.000000</td>\n",
       "    </tr>\n",
       "    <tr>\n",
       "      <th>4</th>\n",
       "      <td>4</td>\n",
       "      <td>no5-change</td>\n",
       "      <td>17-10-06_13-18-33_244500000_304500000</td>\n",
       "      <td>4749999.0</td>\n",
       "      <td>0.800990</td>\n",
       "      <td>0.900000</td>\n",
       "      <td>-1.0</td>\n",
       "      <td>0.196655</td>\n",
       "      <td>0.476752</td>\n",
       "      <td>0.485283</td>\n",
       "    </tr>\n",
       "  </tbody>\n",
       "</table>\n",
       "</div>"
      ],
      "text/plain": [
       "   Unnamed: 0    Exp name                              File name  Time stamp  \\\n",
       "0           0  no5-change  17-10-06_13-18-33_244500000_304500000    749999.0   \n",
       "1           1  no5-change  17-10-06_13-18-33_244500000_304500000   1749999.0   \n",
       "2           2  no5-change  17-10-06_13-18-33_244500000_304500000   2749999.0   \n",
       "3           3  no5-change  17-10-06_13-18-33_244500000_304500000   3749999.0   \n",
       "4           4  no5-change  17-10-06_13-18-33_244500000_304500000   4749999.0   \n",
       "\n",
       "        Map  Map medium  Map large   Density  Density effective  \\\n",
       "0  0.933663    1.000000        0.9  0.262354           0.585325   \n",
       "1  0.822772    0.833663       -1.0  0.169897           0.426888   \n",
       "2  0.800000   -1.000000       -1.0  0.168579           0.445312   \n",
       "3  0.000000   -1.000000       -1.0  0.146753           0.434625   \n",
       "4  0.800990    0.900000       -1.0  0.196655           0.476752   \n",
       "\n",
       "   Density occurance  \n",
       "0           0.592072  \n",
       "1           0.457396  \n",
       "2           0.555884  \n",
       "3          -1.000000  \n",
       "4           0.485283  "
      ]
     },
     "execution_count": 82,
     "metadata": {},
     "output_type": "execute_result"
    }
   ],
   "source": [
    "import pandas as pd\n",
    "\n",
    "no5 = pd.read_csv(\"summarise_no5.csv\")\n",
    "no5.head()"
   ]
  },
  {
   "cell_type": "code",
   "execution_count": 83,
   "metadata": {},
   "outputs": [
    {
     "data": {
      "text/html": [
       "<div>\n",
       "<style scoped>\n",
       "    .dataframe tbody tr th:only-of-type {\n",
       "        vertical-align: middle;\n",
       "    }\n",
       "\n",
       "    .dataframe tbody tr th {\n",
       "        vertical-align: top;\n",
       "    }\n",
       "\n",
       "    .dataframe thead th {\n",
       "        text-align: right;\n",
       "    }\n",
       "</style>\n",
       "<table border=\"1\" class=\"dataframe\">\n",
       "  <thead>\n",
       "    <tr style=\"text-align: right;\">\n",
       "      <th></th>\n",
       "      <th>Unnamed: 0</th>\n",
       "      <th>Exp name</th>\n",
       "      <th>File name</th>\n",
       "      <th>Time stamp</th>\n",
       "      <th>Map</th>\n",
       "      <th>Map medium</th>\n",
       "      <th>Map large</th>\n",
       "      <th>Density</th>\n",
       "      <th>Density effective</th>\n",
       "      <th>Density occurance</th>\n",
       "    </tr>\n",
       "  </thead>\n",
       "  <tbody>\n",
       "    <tr>\n",
       "      <th>0</th>\n",
       "      <td>0</td>\n",
       "      <td>no5-change</td>\n",
       "      <td>17-10-06_13-18-33_244500000_304500000</td>\n",
       "      <td>58750000.0</td>\n",
       "      <td>0.231683</td>\n",
       "      <td>0.231683</td>\n",
       "      <td>-1.0</td>\n",
       "      <td>0.013525</td>\n",
       "      <td>0.050628</td>\n",
       "      <td>0.043107</td>\n",
       "    </tr>\n",
       "    <tr>\n",
       "      <th>1</th>\n",
       "      <td>1</td>\n",
       "      <td>no5-change</td>\n",
       "      <td>17-10-06_13-18-33_244500000_304500000</td>\n",
       "      <td>52750000.0</td>\n",
       "      <td>0.047525</td>\n",
       "      <td>0.000000</td>\n",
       "      <td>-1.0</td>\n",
       "      <td>0.006165</td>\n",
       "      <td>0.011235</td>\n",
       "      <td>0.015263</td>\n",
       "    </tr>\n",
       "    <tr>\n",
       "      <th>2</th>\n",
       "      <td>2</td>\n",
       "      <td>no5-change</td>\n",
       "      <td>17-10-06_13-18-33_244500000_304500000</td>\n",
       "      <td>47750000.0</td>\n",
       "      <td>0.168812</td>\n",
       "      <td>0.115842</td>\n",
       "      <td>-1.0</td>\n",
       "      <td>0.030005</td>\n",
       "      <td>0.003286</td>\n",
       "      <td>0.019973</td>\n",
       "    </tr>\n",
       "    <tr>\n",
       "      <th>3</th>\n",
       "      <td>3</td>\n",
       "      <td>no5-change</td>\n",
       "      <td>17-10-06_13-18-33_244500000_304500000</td>\n",
       "      <td>46750000.0</td>\n",
       "      <td>0.594059</td>\n",
       "      <td>0.788449</td>\n",
       "      <td>-1.0</td>\n",
       "      <td>0.053638</td>\n",
       "      <td>0.114515</td>\n",
       "      <td>0.109036</td>\n",
       "    </tr>\n",
       "    <tr>\n",
       "      <th>4</th>\n",
       "      <td>4</td>\n",
       "      <td>no5-change</td>\n",
       "      <td>17-10-06_13-18-33_244500000_304500000</td>\n",
       "      <td>45750000.0</td>\n",
       "      <td>0.756436</td>\n",
       "      <td>0.744224</td>\n",
       "      <td>-1.0</td>\n",
       "      <td>0.087170</td>\n",
       "      <td>0.151663</td>\n",
       "      <td>0.142538</td>\n",
       "    </tr>\n",
       "  </tbody>\n",
       "</table>\n",
       "</div>"
      ],
      "text/plain": [
       "   Unnamed: 0    Exp name                              File name  Time stamp  \\\n",
       "0           0  no5-change  17-10-06_13-18-33_244500000_304500000  58750000.0   \n",
       "1           1  no5-change  17-10-06_13-18-33_244500000_304500000  52750000.0   \n",
       "2           2  no5-change  17-10-06_13-18-33_244500000_304500000  47750000.0   \n",
       "3           3  no5-change  17-10-06_13-18-33_244500000_304500000  46750000.0   \n",
       "4           4  no5-change  17-10-06_13-18-33_244500000_304500000  45750000.0   \n",
       "\n",
       "        Map  Map medium  Map large   Density  Density effective  \\\n",
       "0  0.231683    0.231683       -1.0  0.013525           0.050628   \n",
       "1  0.047525    0.000000       -1.0  0.006165           0.011235   \n",
       "2  0.168812    0.115842       -1.0  0.030005           0.003286   \n",
       "3  0.594059    0.788449       -1.0  0.053638           0.114515   \n",
       "4  0.756436    0.744224       -1.0  0.087170           0.151663   \n",
       "\n",
       "   Density occurance  \n",
       "0           0.043107  \n",
       "1           0.015263  \n",
       "2           0.019973  \n",
       "3           0.109036  \n",
       "4           0.142538  "
      ]
     },
     "execution_count": 83,
     "metadata": {},
     "output_type": "execute_result"
    }
   ],
   "source": [
    "no5_testing = pd.read_csv(\"summarise200000point0.csv\")\n",
    "no5_testing.head()"
   ]
  },
  {
   "cell_type": "code",
   "execution_count": 84,
   "metadata": {},
   "outputs": [
    {
     "data": {
      "text/html": [
       "<div>\n",
       "<style scoped>\n",
       "    .dataframe tbody tr th:only-of-type {\n",
       "        vertical-align: middle;\n",
       "    }\n",
       "\n",
       "    .dataframe tbody tr th {\n",
       "        vertical-align: top;\n",
       "    }\n",
       "\n",
       "    .dataframe thead th {\n",
       "        text-align: right;\n",
       "    }\n",
       "</style>\n",
       "<table border=\"1\" class=\"dataframe\">\n",
       "  <thead>\n",
       "    <tr style=\"text-align: right;\">\n",
       "      <th></th>\n",
       "      <th>Unnamed: 0_x</th>\n",
       "      <th>Exp name_x</th>\n",
       "      <th>File name</th>\n",
       "      <th>Time stamp</th>\n",
       "      <th>Map_x</th>\n",
       "      <th>Map medium_x</th>\n",
       "      <th>Map large_x</th>\n",
       "      <th>Density_x</th>\n",
       "      <th>Density effective_x</th>\n",
       "      <th>Density occurance_x</th>\n",
       "      <th>Unnamed: 0_y</th>\n",
       "      <th>Exp name_y</th>\n",
       "      <th>Map_y</th>\n",
       "      <th>Map medium_y</th>\n",
       "      <th>Map large_y</th>\n",
       "      <th>Density_y</th>\n",
       "      <th>Density effective_y</th>\n",
       "      <th>Density occurance_y</th>\n",
       "    </tr>\n",
       "  </thead>\n",
       "  <tbody>\n",
       "    <tr>\n",
       "      <th>0</th>\n",
       "      <td>0</td>\n",
       "      <td>no5-change</td>\n",
       "      <td>17-10-06_13-18-33_244500000_304500000</td>\n",
       "      <td>749999.0</td>\n",
       "      <td>0.933663</td>\n",
       "      <td>1.000000</td>\n",
       "      <td>0.9</td>\n",
       "      <td>0.262354</td>\n",
       "      <td>0.585325</td>\n",
       "      <td>0.592072</td>\n",
       "      <td>45.0</td>\n",
       "      <td>no5-change</td>\n",
       "      <td>0.966337</td>\n",
       "      <td>1.000000</td>\n",
       "      <td>1.0</td>\n",
       "      <td>0.259265</td>\n",
       "      <td>0.575373</td>\n",
       "      <td>0.574289</td>\n",
       "    </tr>\n",
       "    <tr>\n",
       "      <th>1</th>\n",
       "      <td>1</td>\n",
       "      <td>no5-change</td>\n",
       "      <td>17-10-06_13-18-33_244500000_304500000</td>\n",
       "      <td>1749999.0</td>\n",
       "      <td>0.822772</td>\n",
       "      <td>0.833663</td>\n",
       "      <td>-1.0</td>\n",
       "      <td>0.169897</td>\n",
       "      <td>0.426888</td>\n",
       "      <td>0.457396</td>\n",
       "      <td>44.0</td>\n",
       "      <td>no5-change</td>\n",
       "      <td>0.749505</td>\n",
       "      <td>0.749505</td>\n",
       "      <td>-1.0</td>\n",
       "      <td>0.172083</td>\n",
       "      <td>0.421150</td>\n",
       "      <td>0.451921</td>\n",
       "    </tr>\n",
       "    <tr>\n",
       "      <th>2</th>\n",
       "      <td>2</td>\n",
       "      <td>no5-change</td>\n",
       "      <td>17-10-06_13-18-33_244500000_304500000</td>\n",
       "      <td>2749999.0</td>\n",
       "      <td>0.800000</td>\n",
       "      <td>-1.000000</td>\n",
       "      <td>-1.0</td>\n",
       "      <td>0.168579</td>\n",
       "      <td>0.445312</td>\n",
       "      <td>0.555884</td>\n",
       "      <td>43.0</td>\n",
       "      <td>no5-change</td>\n",
       "      <td>0.700000</td>\n",
       "      <td>-1.000000</td>\n",
       "      <td>-1.0</td>\n",
       "      <td>0.163586</td>\n",
       "      <td>0.468446</td>\n",
       "      <td>0.414534</td>\n",
       "    </tr>\n",
       "    <tr>\n",
       "      <th>3</th>\n",
       "      <td>3</td>\n",
       "      <td>no5-change</td>\n",
       "      <td>17-10-06_13-18-33_244500000_304500000</td>\n",
       "      <td>3749999.0</td>\n",
       "      <td>0.000000</td>\n",
       "      <td>-1.000000</td>\n",
       "      <td>-1.0</td>\n",
       "      <td>0.146753</td>\n",
       "      <td>0.434625</td>\n",
       "      <td>-1.000000</td>\n",
       "      <td>42.0</td>\n",
       "      <td>no5-change</td>\n",
       "      <td>1.000000</td>\n",
       "      <td>-1.000000</td>\n",
       "      <td>-1.0</td>\n",
       "      <td>0.144031</td>\n",
       "      <td>0.350906</td>\n",
       "      <td>0.418660</td>\n",
       "    </tr>\n",
       "    <tr>\n",
       "      <th>4</th>\n",
       "      <td>4</td>\n",
       "      <td>no5-change</td>\n",
       "      <td>17-10-06_13-18-33_244500000_304500000</td>\n",
       "      <td>4749999.0</td>\n",
       "      <td>0.800990</td>\n",
       "      <td>0.900000</td>\n",
       "      <td>-1.0</td>\n",
       "      <td>0.196655</td>\n",
       "      <td>0.476752</td>\n",
       "      <td>0.485283</td>\n",
       "      <td>41.0</td>\n",
       "      <td>no5-change</td>\n",
       "      <td>0.700990</td>\n",
       "      <td>0.800000</td>\n",
       "      <td>-1.0</td>\n",
       "      <td>0.204956</td>\n",
       "      <td>0.484999</td>\n",
       "      <td>0.467470</td>\n",
       "    </tr>\n",
       "  </tbody>\n",
       "</table>\n",
       "</div>"
      ],
      "text/plain": [
       "   Unnamed: 0_x  Exp name_x                              File name  \\\n",
       "0             0  no5-change  17-10-06_13-18-33_244500000_304500000   \n",
       "1             1  no5-change  17-10-06_13-18-33_244500000_304500000   \n",
       "2             2  no5-change  17-10-06_13-18-33_244500000_304500000   \n",
       "3             3  no5-change  17-10-06_13-18-33_244500000_304500000   \n",
       "4             4  no5-change  17-10-06_13-18-33_244500000_304500000   \n",
       "\n",
       "   Time stamp     Map_x  Map medium_x  Map large_x  Density_x  \\\n",
       "0    749999.0  0.933663      1.000000          0.9   0.262354   \n",
       "1   1749999.0  0.822772      0.833663         -1.0   0.169897   \n",
       "2   2749999.0  0.800000     -1.000000         -1.0   0.168579   \n",
       "3   3749999.0  0.000000     -1.000000         -1.0   0.146753   \n",
       "4   4749999.0  0.800990      0.900000         -1.0   0.196655   \n",
       "\n",
       "   Density effective_x  Density occurance_x  Unnamed: 0_y  Exp name_y  \\\n",
       "0             0.585325             0.592072          45.0  no5-change   \n",
       "1             0.426888             0.457396          44.0  no5-change   \n",
       "2             0.445312             0.555884          43.0  no5-change   \n",
       "3             0.434625            -1.000000          42.0  no5-change   \n",
       "4             0.476752             0.485283          41.0  no5-change   \n",
       "\n",
       "      Map_y  Map medium_y  Map large_y  Density_y  Density effective_y  \\\n",
       "0  0.966337      1.000000          1.0   0.259265             0.575373   \n",
       "1  0.749505      0.749505         -1.0   0.172083             0.421150   \n",
       "2  0.700000     -1.000000         -1.0   0.163586             0.468446   \n",
       "3  1.000000     -1.000000         -1.0   0.144031             0.350906   \n",
       "4  0.700990      0.800000         -1.0   0.204956             0.484999   \n",
       "\n",
       "   Density occurance_y  \n",
       "0             0.574289  \n",
       "1             0.451921  \n",
       "2             0.414534  \n",
       "3             0.418660  \n",
       "4             0.467470  "
      ]
     },
     "execution_count": 84,
     "metadata": {},
     "output_type": "execute_result"
    }
   ],
   "source": [
    "joined = no5.merge(no5_testing,on=[\"File name\",\"Time stamp\"],how=\"left\")\n",
    "joined.head()"
   ]
  },
  {
   "cell_type": "code",
   "execution_count": 85,
   "metadata": {},
   "outputs": [
    {
     "name": "stderr",
     "output_type": "stream",
     "text": [
      "/Users/harmonialeo/opt/anaconda3/lib/python3.8/site-packages/seaborn/_decorators.py:36: FutureWarning: Pass the following variables as keyword args: x, y. From version 0.12, the only valid positional argument will be `data`, and passing other arguments without an explicit keyword will result in an error or misinterpretation.\n",
      "  warnings.warn(\n"
     ]
    },
    {
     "data": {
      "text/plain": [
       "<AxesSubplot:xlabel='Map_x', ylabel='Map_y'>"
      ]
     },
     "execution_count": 85,
     "metadata": {},
     "output_type": "execute_result"
    },
    {
     "data": {
      "image/png": "[encoded data removed]",
      "text/plain": [
       "<Figure size 432x288 with 1 Axes>"
      ]
     },
     "metadata": {
      "needs_background": "light"
     },
     "output_type": "display_data"
    }
   ],
   "source": [
    "import seaborn as sns\n",
    "\n",
    "sns.scatterplot(\"Map_x\",\"Map_y\",data=joined)"
   ]
  },
  {
   "cell_type": "code",
   "execution_count": 87,
   "metadata": {},
   "outputs": [
    {
     "data": {
      "text/plain": [
       "<AxesSubplot:ylabel='Count'>"
      ]
     },
     "execution_count": 87,
     "metadata": {},
     "output_type": "execute_result"
    },
    {
     "data": {
      "image/png": "[encoded data removed]",
      "text/plain": [
       "<Figure size 432x288 with 1 Axes>"
      ]
     },
     "metadata": {
      "needs_background": "light"
     },
     "output_type": "display_data"
    }
   ],
   "source": [
    "sns.histplot(joined[\"Map_y\"] - joined[\"Map_x\"])"
   ]
  },
  {
   "cell_type": "code",
   "execution_count": 88,
   "metadata": {},
   "outputs": [
    {
     "data": {
      "text/plain": [
       "0.0013567769356893058"
      ]
     },
     "execution_count": 88,
     "metadata": {},
     "output_type": "execute_result"
    }
   ],
   "source": [
    "(joined[\"Map_y\"] - joined[\"Map_x\"]).mean()"
   ]
  },
  {
   "cell_type": "code",
   "execution_count": 11,
   "metadata": {},
   "outputs": [
    {
     "data": {
      "text/plain": [
       "<AxesSubplot:xlabel='Density', ylabel='Density'>"
      ]
     },
     "execution_count": 11,
     "metadata": {},
     "output_type": "execute_result"
    },
    {
     "data": {
      "image/png": "[encoded data removed]",
      "text/plain": [
       "<Figure size 432x288 with 1 Axes>"
      ]
     },
     "metadata": {
      "needs_background": "light"
     },
     "output_type": "display_data"
    }
   ],
   "source": [
    "sns.kdeplot(no2[\"Density\"])"
   ]
  },
  {
   "cell_type": "code",
   "execution_count": 24,
   "metadata": {},
   "outputs": [
    {
     "data": {
      "text/plain": [
       "tensor([ 3.1432e-02,  4.6411e-03,  4.3153e-03, -3.9886e-03,  1.0648e-02,\n",
       "         3.7836e-02,  7.8999e-03,  3.5276e-03,  8.1017e-03,  2.8821e-02,\n",
       "         1.1570e-05,  1.1392e-03, -1.6656e-03,  4.3749e-04,  1.0851e-02,\n",
       "         1.3556e-02,  7.9702e-03,  1.4270e-02,  3.4594e-03, -1.7526e-04,\n",
       "         3.1222e-02,  2.0484e-02, -1.4020e-03,  7.9378e-03,  1.0381e-02,\n",
       "        -3.2662e-05, -2.5660e-03, -5.4967e-03, -7.9514e-03, -8.4727e-03,\n",
       "        -3.9756e-05, -1.2954e-04,  1.3488e-02,  1.3145e-02,  7.2587e-03,\n",
       "         8.2422e-04, -3.4455e-03,  2.0550e-02, -1.6969e-03, -4.0541e-03,\n",
       "        -1.8687e-03,  3.8898e-03,  9.8480e-03,  2.1059e-02,  1.8920e-03,\n",
       "         1.9117e-03,  1.4408e-02,  3.5766e-02, -3.5959e-04,  1.4639e-03])"
      ]
     },
     "execution_count": 24,
     "metadata": {},
     "output_type": "execute_result"
    }
   ],
   "source": [
    "import torch.nn.functional as F\n",
    "import torch\n",
    "\n",
    "w = torch.rand((50,))\n",
    "\n",
    "b = torch.rand((50,))\n",
    "x = torch.rand((50,))\n",
    "y = torch.rand((50,))\n",
    "\n",
    "w.requires_grad_()\t#设定参数张量w需要梯度\n",
    "mse=F.mse_loss(y,x*w+b)\t#构造函数，这里构造MSE损失函数。第一个参数是实际值，第二个参数是预测值\n",
    "#grads=torch.autograd.grad(mse,[w])\t#第一个参数为待求梯度的函数，第二个参数为一个列表，里面是需要梯度的张量\n",
    "#返回一个梯度张量的列表\n",
    "\n",
    "mse.backward()\t#反向传播，直接将梯度附加到作为函数参数的所有需要梯度的张量上\n",
    "w.grad\t#查看需要梯度的张量上附加的梯度\n",
    "\n",
    "#进行一次自动求导后，计算图信息会被清除，再次求导会报错。在调用grad和backward时设定retain_graph参数为True以保留计算图信息"
   ]
  },
  {
   "cell_type": "code",
   "execution_count": 36,
   "metadata": {},
   "outputs": [],
   "source": [
    "w1 = torch.rand((50,))\n",
    "\n",
    "b1 = torch.rand((50,))\n",
    "x1 = torch.rand((50,))\n",
    "\n",
    "w2 = torch.rand((50,))\n",
    "\n",
    "b2 = torch.rand((50,))\n",
    "x2 = torch.rand((50,))\n",
    "\n",
    "w1.requires_grad_()\t#设定参数张量w需要梯度\n",
    "b1.requires_grad_()\n",
    "w2.requires_grad_()\n",
    "b2.requires_grad_()\n",
    "\n",
    "x1_after = x1*w1+b1\n",
    "x2_after = x2*w2+b2\n",
    "\n",
    "x1_after = torch.where(x1_after<x2_after,x1_after,torch.zeros_like(x1_after))\n",
    "\n",
    "y = torch.rand((50,))\n",
    "\n",
    "mse=F.mse_loss(y,x1_after)\t#构造函数，这里构造MSE损失函数。第一个参数是实际值，第二个参数是预测值\n",
    "#grads=torch.autograd.grad(mse,[w])\t#第一个参数为待求梯度的函数，第二个参数为一个列表，里面是需要梯度的张量\n",
    "#返回一个梯度张量的列表\n",
    "\n",
    "mse.backward()\t#反向传播，直接将梯度附加到作为函数参数的所有需要梯度的张量上\n",
    "w2.grad\t#查看需要梯度的张量上附加的梯度"
   ]
  },
  {
   "cell_type": "code",
   "execution_count": 29,
   "metadata": {},
   "outputs": [],
   "source": [
    "w2.grad"
   ]
  },
  {
   "cell_type": "code",
   "execution_count": 14,
   "metadata": {},
   "outputs": [
    {
     "ename": "RuntimeError",
     "evalue": "grad can be implicitly created only for scalar outputs",
     "output_type": "error",
     "traceback": [
      "\u001b[0;31m---------------------------------------------------------------------------\u001b[0m",
      "\u001b[0;31mRuntimeError\u001b[0m                              Traceback (most recent call last)",
      "\u001b[0;32m<ipython-input-14-9b1cc18db817>\u001b[0m in \u001b[0;36m<module>\u001b[0;34m\u001b[0m\n\u001b[1;32m      7\u001b[0m \u001b[0mr1\u001b[0m \u001b[0;34m=\u001b[0m \u001b[0mtorch\u001b[0m\u001b[0;34m.\u001b[0m\u001b[0mautograd\u001b[0m\u001b[0;34m.\u001b[0m\u001b[0mVariable\u001b[0m\u001b[0;34m(\u001b[0m\u001b[0mtorch\u001b[0m\u001b[0;34m.\u001b[0m\u001b[0mrand\u001b[0m\u001b[0;34m(\u001b[0m\u001b[0;34m(\u001b[0m\u001b[0;36m50\u001b[0m\u001b[0;34m,\u001b[0m\u001b[0;34m)\u001b[0m\u001b[0;34m)\u001b[0m\u001b[0;34m,\u001b[0m \u001b[0mrequires_grad\u001b[0m\u001b[0;34m=\u001b[0m\u001b[0;32mTrue\u001b[0m\u001b[0;34m)\u001b[0m\u001b[0;34m\u001b[0m\u001b[0;34m\u001b[0m\u001b[0m\n\u001b[1;32m      8\u001b[0m \u001b[0mr2\u001b[0m \u001b[0;34m=\u001b[0m \u001b[0mtorch\u001b[0m\u001b[0;34m.\u001b[0m\u001b[0mautograd\u001b[0m\u001b[0;34m.\u001b[0m\u001b[0mVariable\u001b[0m\u001b[0;34m(\u001b[0m\u001b[0mtorch\u001b[0m\u001b[0;34m.\u001b[0m\u001b[0mrand\u001b[0m\u001b[0;34m(\u001b[0m\u001b[0;34m(\u001b[0m\u001b[0;36m50\u001b[0m\u001b[0;34m,\u001b[0m\u001b[0;34m)\u001b[0m\u001b[0;34m)\u001b[0m\u001b[0;34m,\u001b[0m \u001b[0mrequires_grad\u001b[0m\u001b[0;34m=\u001b[0m\u001b[0;32mTrue\u001b[0m\u001b[0;34m)\u001b[0m\u001b[0;34m\u001b[0m\u001b[0;34m\u001b[0m\u001b[0m\n\u001b[0;32m----> 9\u001b[0;31m \u001b[0mtorch\u001b[0m\u001b[0;34m.\u001b[0m\u001b[0mautograd\u001b[0m\u001b[0;34m.\u001b[0m\u001b[0mgrad\u001b[0m\u001b[0;34m(\u001b[0m\u001b[0mf\u001b[0m\u001b[0;34m(\u001b[0m\u001b[0mx\u001b[0m\u001b[0;34m,\u001b[0m \u001b[0mr1\u001b[0m\u001b[0;34m,\u001b[0m \u001b[0mr2\u001b[0m\u001b[0;34m)\u001b[0m\u001b[0;34m,\u001b[0m \u001b[0mx\u001b[0m\u001b[0;34m)\u001b[0m\u001b[0;34m\u001b[0m\u001b[0;34m\u001b[0m\u001b[0m\n\u001b[0m",
      "\u001b[0;32m~/opt/anaconda3/lib/python3.8/site-packages/torch/autograd/__init__.py\u001b[0m in \u001b[0;36mgrad\u001b[0;34m(outputs, inputs, grad_outputs, retain_graph, create_graph, only_inputs, allow_unused)\u001b[0m\n\u001b[1;32m    195\u001b[0m \u001b[0;34m\u001b[0m\u001b[0m\n\u001b[1;32m    196\u001b[0m     \u001b[0mgrad_outputs_\u001b[0m \u001b[0;34m=\u001b[0m \u001b[0m_tensor_or_tensors_to_tuple\u001b[0m\u001b[0;34m(\u001b[0m\u001b[0mgrad_outputs\u001b[0m\u001b[0;34m,\u001b[0m \u001b[0mlen\u001b[0m\u001b[0;34m(\u001b[0m\u001b[0moutputs\u001b[0m\u001b[0;34m)\u001b[0m\u001b[0;34m)\u001b[0m\u001b[0;34m\u001b[0m\u001b[0;34m\u001b[0m\u001b[0m\n\u001b[0;32m--> 197\u001b[0;31m     \u001b[0mgrad_outputs_\u001b[0m \u001b[0;34m=\u001b[0m \u001b[0m_make_grads\u001b[0m\u001b[0;34m(\u001b[0m\u001b[0moutputs\u001b[0m\u001b[0;34m,\u001b[0m \u001b[0mgrad_outputs_\u001b[0m\u001b[0;34m)\u001b[0m\u001b[0;34m\u001b[0m\u001b[0;34m\u001b[0m\u001b[0m\n\u001b[0m\u001b[1;32m    198\u001b[0m \u001b[0;34m\u001b[0m\u001b[0m\n\u001b[1;32m    199\u001b[0m     \u001b[0;32mif\u001b[0m \u001b[0mretain_graph\u001b[0m \u001b[0;32mis\u001b[0m \u001b[0;32mNone\u001b[0m\u001b[0;34m:\u001b[0m\u001b[0;34m\u001b[0m\u001b[0;34m\u001b[0m\u001b[0m\n",
      "\u001b[0;32m~/opt/anaconda3/lib/python3.8/site-packages/torch/autograd/__init__.py\u001b[0m in \u001b[0;36m_make_grads\u001b[0;34m(outputs, grads)\u001b[0m\n\u001b[1;32m     48\u001b[0m             \u001b[0;32mif\u001b[0m \u001b[0mout\u001b[0m\u001b[0;34m.\u001b[0m\u001b[0mrequires_grad\u001b[0m\u001b[0;34m:\u001b[0m\u001b[0;34m\u001b[0m\u001b[0;34m\u001b[0m\u001b[0m\n\u001b[1;32m     49\u001b[0m                 \u001b[0;32mif\u001b[0m \u001b[0mout\u001b[0m\u001b[0;34m.\u001b[0m\u001b[0mnumel\u001b[0m\u001b[0;34m(\u001b[0m\u001b[0;34m)\u001b[0m \u001b[0;34m!=\u001b[0m \u001b[0;36m1\u001b[0m\u001b[0;34m:\u001b[0m\u001b[0;34m\u001b[0m\u001b[0;34m\u001b[0m\u001b[0m\n\u001b[0;32m---> 50\u001b[0;31m                     \u001b[0;32mraise\u001b[0m \u001b[0mRuntimeError\u001b[0m\u001b[0;34m(\u001b[0m\u001b[0;34m\"grad can be implicitly created only for scalar outputs\"\u001b[0m\u001b[0;34m)\u001b[0m\u001b[0;34m\u001b[0m\u001b[0;34m\u001b[0m\u001b[0m\n\u001b[0m\u001b[1;32m     51\u001b[0m                 \u001b[0mnew_grads\u001b[0m\u001b[0;34m.\u001b[0m\u001b[0mappend\u001b[0m\u001b[0;34m(\u001b[0m\u001b[0mtorch\u001b[0m\u001b[0;34m.\u001b[0m\u001b[0mones_like\u001b[0m\u001b[0;34m(\u001b[0m\u001b[0mout\u001b[0m\u001b[0;34m,\u001b[0m \u001b[0mmemory_format\u001b[0m\u001b[0;34m=\u001b[0m\u001b[0mtorch\u001b[0m\u001b[0;34m.\u001b[0m\u001b[0mpreserve_format\u001b[0m\u001b[0;34m)\u001b[0m\u001b[0;34m)\u001b[0m\u001b[0;34m\u001b[0m\u001b[0;34m\u001b[0m\u001b[0m\n\u001b[1;32m     52\u001b[0m             \u001b[0;32melse\u001b[0m\u001b[0;34m:\u001b[0m\u001b[0;34m\u001b[0m\u001b[0;34m\u001b[0m\u001b[0m\n",
      "\u001b[0;31mRuntimeError\u001b[0m: grad can be implicitly created only for scalar outputs"
     ]
    }
   ],
   "source": [
    "import torch\n",
    "\n",
    "def f(x,r1,r2):\n",
    "    return torch.where(x <= 0.5, r1 , r2)\n",
    "\n",
    "x = torch.autograd.Variable(torch.rand((50,)), requires_grad=True)\n",
    "r1 = torch.autograd.Variable(torch.rand((50,)), requires_grad=True)\n",
    "r2 = torch.autograd.Variable(torch.rand((50,)), requires_grad=True)\n",
    "torch.autograd.grad(f(x, r1, r2), x)"
   ]
  },
  {
   "cell_type": "code",
   "execution_count": 7,
   "metadata": {},
   "outputs": [
    {
     "data": {
      "text/plain": [
       "array([ 993600, 5729592, 5465401,  511278], dtype=uint32)"
      ]
     },
     "execution_count": 7,
     "metadata": {},
     "output_type": "execute_result"
    }
   ],
   "source": [
    "import numpy as np\n",
    "\n",
    "x = np.array([320, 312, 313, 302],dtype=np.uint32)\n",
    "y = np.array([0, 219, 217, 243],dtype=np.uint32)\n",
    "c = np.array([3, 5, 4, 0],dtype=np.uint32)\n",
    "p = np.array([0, 1, 1, 0],dtype=np.uint32)\n",
    "ecd = x + np.left_shift(y, 10) + np.left_shift(c, 18) + np.left_shift(p, 22)\n",
    "ecd"
   ]
  },
  {
   "cell_type": "code",
   "execution_count": 8,
   "metadata": {},
   "outputs": [
    {
     "data": {
      "text/plain": [
       "array([320, 312, 313, 302], dtype=uint32)"
      ]
     },
     "execution_count": 8,
     "metadata": {},
     "output_type": "execute_result"
    }
   ],
   "source": [
    "np.bitwise_and(ecd, 511)"
   ]
  },
  {
   "cell_type": "code",
   "execution_count": 11,
   "metadata": {},
   "outputs": [
    {
     "data": {
      "text/plain": [
       "array([202, 219, 217, 243], dtype=uint32)"
      ]
     },
     "execution_count": 11,
     "metadata": {},
     "output_type": "execute_result"
    }
   ],
   "source": [
    "np.right_shift(np.bitwise_and(ecd, 261888), 10)"
   ]
  }
 ],
 "metadata": {
  "interpreter": {
   "hash": "ec6d9dafd5cbf44a7deb0ee208de5a8e6bc375a34e5c6f7aad6a434b6e159539"
  },
  "kernelspec": {
   "display_name": "Python 3.8.3 64-bit ('base': conda)",
   "name": "python3"
  },
  "language_info": {
   "codemirror_mode": {
    "name": "ipython",
    "version": 3
   },
   "file_extension": ".py",
   "mimetype": "text/x-python",
   "name": "python",
   "nbconvert_exporter": "python",
   "pygments_lexer": "ipython3",
   "version": "3.8.3"
  },
  "orig_nbformat": 4
 },
 "nbformat": 4,
 "nbformat_minor": 2
}

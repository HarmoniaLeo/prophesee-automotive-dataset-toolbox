{
 "cells": [
  {
   "cell_type": "code",
   "execution_count": 12,
   "metadata": {},
   "outputs": [
    {
     "ename": "IndentationError",
     "evalue": "expected an indented block (<ipython-input-12-32c113b6eccc>, line 22)",
     "output_type": "error",
     "traceback": [
      "\u001b[0;36m  File \u001b[0;32m\"<ipython-input-12-32c113b6eccc>\"\u001b[0;36m, line \u001b[0;32m22\u001b[0m\n\u001b[0;31m    box = np.array([t * 1000000, int(line[6]), int(line[7]), int(line[8]) - int(line[6]), int(line[9]) - int(line[7]), , 1.0, 0])\u001b[0m\n\u001b[0m    ^\u001b[0m\n\u001b[0;31mIndentationError\u001b[0m\u001b[0;31m:\u001b[0m expected an indented block\n"
     ]
    }
   ],
   "source": [
    "import numpy as np\n",
    "from numpy.lib import recfunctions as rfn\n",
    "from src.io import npy_events_tools\n",
    "\n",
    "start, v_type, ev_size, size, dtype = npy_events_tools.parse_header(\"/Volumes/SN550_2/18-03-29_13-15-02_61500000_121500000_bbox.npy\")\n",
    "\n",
    "for i in range(0,21):\n",
    "    f = open(\"/Volumes/SN550_2/training/label_02/\" + str(i).zfill(4) + \".txt\", \"rb\")\n",
    "    new_bbox_file = \"/Volumes/SN550_2/training/label_02/\" + str(i).zfill(4) + \"_bbox.npy\"\n",
    "    bboxes = []\n",
    "    lines = f.readlines()\n",
    "    for line in lines:\n",
    "        line = line.decode(\"utf-8\").split(\" \")\n",
    "        t = int(line[0])\n",
    "        if t == 0:\n",
    "            continue\n",
    "        if line[2] in [\"Car\", \"Tram\", \"Truck\", \"Van\"]:\n",
    "            label = 0\n",
    "        elif line[2] in [\"Cyclist\", \"Pedestrian\", \"Person\", \"Van\"]:\n",
    "            label = 1\n",
    "        else:\n",
    "            continue\n",
    "        box = np.array([t * 1000000, int(line[6]), int(line[7]), int(line[8]) - int(line[6]), int(line[9]) - int(line[7]), label , 1.0, 0])\n",
    "        bboxes.append(box)\n",
    "    bboxes = np.vstack(bboxes)\n",
    "    bboxes = rfn.unstructured_to_structured(bboxes, dtype)\n",
    "    mmp = np.lib.format.open_memmap(new_bbox_file, \"w+\", dtype, bboxes.shape)\n",
    "    mmp[:] = bboxes[:]\n",
    "    mmp.flush()"
   ]
  }
 ],
 "metadata": {
  "interpreter": {
   "hash": "34e3d493db18dfecee561d26c028e75a8172bde10b9fb1f75764229aafdf7eef"
  },
  "kernelspec": {
   "display_name": "Python 3.8.3 ('base')",
   "language": "python",
   "name": "python3"
  },
  "language_info": {
   "codemirror_mode": {
    "name": "ipython",
    "version": 3
   },
   "file_extension": ".py",
   "mimetype": "text/x-python",
   "name": "python",
   "nbconvert_exporter": "python",
   "pygments_lexer": "ipython3",
   "version": "3.8.3"
  },
  "orig_nbformat": 4
 },
 "nbformat": 4,
 "nbformat_minor": 2
}
